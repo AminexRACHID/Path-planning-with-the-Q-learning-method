{
  "cells": [
    {
      "cell_type": "code",
      "execution_count": 1,
      "metadata": {
        "id": "IHEQoUsphwWF"
      },
      "outputs": [],
      "source": [
        "# l'importation des librairies\n",
        "import numpy as np\n",
        "import random\n",
        "import math\n",
        "\n",
        "class EnvGrid:\n",
        "    def __init__(self):\n",
        "        # Création de l'environnement avec des valeurs initiales à 0\n",
        "        self.grid = np.zeros((10, 10))\n",
        "        # Valeur du but\n",
        "        self.grid[-1, -1] = 10\n",
        "        # Valeurs des obstacles\n",
        "        self.grid[0, 5] = 1\n",
        "        self.grid[0, 6] = 1\n",
        "        self.grid[3, 3] = 1\n",
        "        self.grid[3, 4] = 1\n",
        "        self.grid[6, 5] = 1\n",
        "        self.grid[6, 6] = 1\n",
        "        self.y = 0\n",
        "        self.x = 0\n",
        "        # Liste des actions possibles : bas, droite, gauche,  haut\n",
        "        self.actions = [(1, 0), (0, 1), (0, -1), (-1,0)]\n",
        "        # Matrice de récompenses initialisée à 0\n",
        "        self.R = np.zeros((10, 10))\n",
        "\n",
        "    # Réinitialisation de la position à (0,0)\n",
        "    def reset(self):\n",
        "        self.i = 0\n",
        "        self.j = 0\n",
        "        # Renvoie la position sous forme d'un nombre (entier)\n",
        "        return self.i * 10 + self.j\n",
        "\n",
        "\n",
        "    def step(self, action):\n",
        "        # Récupère l'action choisie\n",
        "        di, dj = self.actions[action]\n",
        "        # Met à jour la position en fonction de l'action et de l'environnement (pour ne pas sortir de la grille)\n",
        "        self.i = max(0, min(self.i + di, 9))\n",
        "        self.j = max(0, min(self.j + dj, 9))\n",
        "        # Si la nouvelle position est un obstacle, la récompense est négative\n",
        "        if self.grid[self.i, self.j] == 1:\n",
        "            self.R[self.i, self.j] = -10\n",
        "            return self.i * 10 + self.j, self.i, self.j\n",
        "        # Si la nouvelle position est le but, la récompense est positive de valeur 10\n",
        "        elif self.i == 9 and self.j == 9:\n",
        "            self.R[self.i, self.j] = 10\n",
        "            return self.i * 10 + self.j, self.i, self.j\n",
        "        # Sinon, la récompense est basée sur la distance à la position finale\n",
        "        else:\n",
        "            goal = (9, 9)\n",
        "            dist = 1/math.sqrt(pow((goal[0] - self.i),2)+pow((goal[1] - self.j),2))\n",
        "            self.R[self.i, self.j] = dist\n",
        "            return self.i * 10 + self.j, self.i, self.j\n",
        "\n",
        "\n",
        "    def is_finished(self):\n",
        "        # Renvoie True si la position actuelle est le but, False sinon\n",
        "        return self.grid[self.i, self.j] == 10\n",
        "\n",
        "def take_action():\n",
        "    # Action aléatoire\n",
        "    action = random.randint(0, 3)\n",
        "    return action\n",
        "\n",
        "def q_learning(env, gamma=0.9, n_iter=1000):\n",
        "    # Matrice Q initialisée à 0\n",
        "    Q = np.zeros((100, 4))\n",
        "    # Boucle sur le nombre d'itérations\n",
        "    for _ in range(n_iter):\n",
        "        # Réinitialisation de l'environnement\n",
        "        st = env.reset()\n",
        "        # Boucle tant que la position actuelle n'est pas le but\n",
        "        while not env.is_finished():\n",
        "            # Choix de l'action\n",
        "            at = take_action()\n",
        "            # Mise à jour de l'environnement en fonction de l'action choisie\n",
        "            stp1, t , z = env.step(at)\n",
        "            # Mise à jour de la matrice Q selon la formule de Q-learning\n",
        "            Q[st, at] = env.R[t, z] + gamma * Q[st,np.argmax(Q[st])] \n",
        "            # Mise à jour de la position actuelle\n",
        "            st = stp1\n",
        "    return Q\n",
        "\n",
        "def generate_shortest_path(env, Q):\n",
        "    # Chemin initialisé avec la position de départ\n",
        "    path = [(0,0),]\n",
        "    st = env.reset()\n",
        "    # Boucle tant que la position actuelle n'est pas le but\n",
        "    while not env.is_finished():\n",
        "        # Choix de l'action qui maximise Q\n",
        "        at = np.argmax(Q[st])\n",
        "        # Mise à jour du position du robot en fonction de l'action choisie\n",
        "        st, i , j = env.step(at)\n",
        "        # Ajout de la nouvelle position au chemin\n",
        "        path.append((i, j))\n",
        "    return path"
      ]
    },
    {
      "cell_type": "code",
      "execution_count": 2,
      "metadata": {
        "colab": {
          "base_uri": "https://localhost:8080/"
        },
        "id": "bKiWJU3nh6jf",
        "outputId": "80afc913-d0f2-4ca7-e2fb-318b26496b49"
      },
      "outputs": [
        {
          "name": "stdout",
          "output_type": "stream",
          "text": [
            "[(0, 0), (1, 0), (1, 1), (2, 1), (2, 2), (3, 2), (4, 2), (4, 3), (4, 4), (5, 4), (5, 5), (5, 6), (5, 7), (6, 7), (7, 7), (8, 7), (8, 8), (9, 8), (9, 9)]\n"
          ]
        }
      ],
      "source": [
        "env = EnvGrid()\n",
        "# Apprentissage de Q\n",
        "Q = q_learning(env)\n",
        "# Génération du chemin le plus court selon Q\n",
        "path = generate_shortest_path(env, Q)\n",
        "# Affichage du chemin\n",
        "print(path)"
      ]
    },
    {
      "cell_type": "code",
      "execution_count": null,
      "metadata": {},
      "outputs": [],
      "source": []
    }
  ],
  "metadata": {
    "colab": {
      "provenance": []
    },
    "kernelspec": {
      "display_name": "Python 3",
      "language": "python",
      "name": "python3"
    },
    "language_info": {
      "codemirror_mode": {
        "name": "ipython",
        "version": 3
      },
      "file_extension": ".py",
      "mimetype": "text/x-python",
      "name": "python",
      "nbconvert_exporter": "python",
      "pygments_lexer": "ipython3",
      "version": "3.10.4"
    },
    "vscode": {
      "interpreter": {
        "hash": "9846d0e644cecbdc5ccaac695ba369ca0e7fff8f42c901362aad750757a14097"
      }
    }
  },
  "nbformat": 4,
  "nbformat_minor": 0
}
